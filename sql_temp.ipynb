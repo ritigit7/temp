{
 "cells": [
  {
   "cell_type": "code",
   "execution_count": 57,
   "id": "3eb72e79-8f3f-4451-819d-548d66235c4a",
   "metadata": {},
   "outputs": [],
   "source": [
    "# import psycopg2\n",
    "\n",
    "# conn = psycopg2.connect(\n",
    "#                         database=\"postgres\",\n",
    "#                         host=\"localhost\",\n",
    "#                         user=\"postgres\",\n",
    "#                         password=\"12345\",\n",
    "#                         port=\"5432\")\n",
    "\n",
    "# cursor = conn.cursor()"
   ]
  },
  {
   "cell_type": "code",
   "execution_count": 58,
   "id": "87cb19e5-b883-48c4-be2d-80ddf1975a7f",
   "metadata": {},
   "outputs": [],
   "source": [
    "# cursor.execute(\"SELECT * FROM u_data\")\n",
    "# rows=cursor .fetchall()\n",
    "# cols=[dese[0] for  dese in cursor.description]"
   ]
  },
  {
   "cell_type": "code",
   "execution_count": 67,
   "id": "7ef9ae04-d7b5-46bb-8fd7-e1dc2440de16",
   "metadata": {},
   "outputs": [
    {
     "data": {
      "text/html": [
       "<div>\n",
       "<style scoped>\n",
       "    .dataframe tbody tr th:only-of-type {\n",
       "        vertical-align: middle;\n",
       "    }\n",
       "\n",
       "    .dataframe tbody tr th {\n",
       "        vertical-align: top;\n",
       "    }\n",
       "\n",
       "    .dataframe thead th {\n",
       "        text-align: right;\n",
       "    }\n",
       "</style>\n",
       "<table border=\"1\" class=\"dataframe\">\n",
       "  <thead>\n",
       "    <tr style=\"text-align: right;\">\n",
       "      <th></th>\n",
       "      <th>bhk</th>\n",
       "      <th>area</th>\n",
       "      <th>sale</th>\n",
       "      <th>furnus</th>\n",
       "      <th>f1</th>\n",
       "      <th>f2</th>\n",
       "    </tr>\n",
       "  </thead>\n",
       "  <tbody>\n",
       "    <tr>\n",
       "      <th>0</th>\n",
       "      <td>1</td>\n",
       "      <td>242</td>\n",
       "      <td>Resale</td>\n",
       "      <td>Unfurnished</td>\n",
       "      <td>1</td>\n",
       "      <td>3</td>\n",
       "    </tr>\n",
       "    <tr>\n",
       "      <th>1</th>\n",
       "      <td>1</td>\n",
       "      <td>242</td>\n",
       "      <td>Resale</td>\n",
       "      <td>Unfurnished</td>\n",
       "      <td>1</td>\n",
       "      <td>3</td>\n",
       "    </tr>\n",
       "  </tbody>\n",
       "</table>\n",
       "</div>"
      ],
      "text/plain": [
       "   bhk  area    sale       furnus  f1  f2\n",
       "0    1   242  Resale  Unfurnished   1   3\n",
       "1    1   242  Resale  Unfurnished   1   3"
      ]
     },
     "execution_count": 67,
     "metadata": {},
     "output_type": "execute_result"
    }
   ],
   "source": [
    "# import pandas as pd\n",
    "\n",
    "# df=pd.DataFrame(data=rows,columns=cols)\n",
    "# df"
   ]
  },
  {
   "cell_type": "code",
   "execution_count": 68,
   "id": "88f769c3-aa49-43e7-aa91-3e45bceca74d",
   "metadata": {},
   "outputs": [],
   "source": [
    "def flow(bhk,area,sale,furnus,f1,f2):\n",
    "\n",
    "    bhk=int(bhk)\n",
    "    area=int(area)\n",
    "    sale=str(sale)\n",
    "    furnus=str(furnus)\n",
    "    f1=int(f1)\n",
    "    f2=int(f2)\n",
    "    #insert query \n",
    "    cursor.execute(f\"INSERT INTO newtable VALUES ({bhk}, {area}, {sale} ,{furnus}, {f1}, {f2})\")\n",
    "    # cursor.execute(\"SELECT * FROM u_data\")\n",
    "    #fetch data\n",
    "    #covert bhk,area into integer\n",
    "    #covert sale into 0,1 form \n",
    "    #conert furnus into 0,1,2\n",
    "    #convert f1,f1 into integer\n",
    "    "
   ]
  },
  {
   "cell_type": "code",
   "execution_count": 69,
   "id": "79ea5c61-6722-419f-9be0-8f792ee8248d",
   "metadata": {},
   "outputs": [
    {
     "ename": "InFailedSqlTransaction",
     "evalue": "current transaction is aborted, commands ignored until end of transaction block\n",
     "output_type": "error",
     "traceback": [
      "\u001b[1;31m---------------------------------------------------------------------------\u001b[0m",
      "\u001b[1;31mInFailedSqlTransaction\u001b[0m                    Traceback (most recent call last)",
      "Cell \u001b[1;32mIn[69], line 1\u001b[0m\n\u001b[1;32m----> 1\u001b[0m \u001b[43mflow\u001b[49m\u001b[43m(\u001b[49m\u001b[38;5;241;43m2\u001b[39;49m\u001b[43m,\u001b[49m\u001b[38;5;241;43m231\u001b[39;49m\u001b[43m,\u001b[49m\u001b[38;5;124;43m\"\u001b[39;49m\u001b[38;5;124;43mResale\u001b[39;49m\u001b[38;5;124;43m\"\u001b[39;49m\u001b[43m,\u001b[49m\u001b[38;5;124;43m\"\u001b[39;49m\u001b[38;5;124;43mUnfurnished\u001b[39;49m\u001b[38;5;124;43m\"\u001b[39;49m\u001b[43m,\u001b[49m\u001b[38;5;241;43m2\u001b[39;49m\u001b[43m,\u001b[49m\u001b[38;5;241;43m4\u001b[39;49m\u001b[43m)\u001b[49m\n",
      "Cell \u001b[1;32mIn[68], line 10\u001b[0m, in \u001b[0;36mflow\u001b[1;34m(bhk, area, sale, furnus, f1, f2)\u001b[0m\n\u001b[0;32m      8\u001b[0m f2\u001b[38;5;241m=\u001b[39m\u001b[38;5;28mint\u001b[39m(f2)\n\u001b[0;32m      9\u001b[0m \u001b[38;5;66;03m#insert query \u001b[39;00m\n\u001b[1;32m---> 10\u001b[0m \u001b[43mcursor\u001b[49m\u001b[38;5;241;43m.\u001b[39;49m\u001b[43mexecute\u001b[49m\u001b[43m(\u001b[49m\u001b[38;5;124;43mf\u001b[39;49m\u001b[38;5;124;43m\"\u001b[39;49m\u001b[38;5;124;43mINSERT INTO us_data VALUES (\u001b[39;49m\u001b[38;5;132;43;01m{\u001b[39;49;00m\u001b[43mbhk\u001b[49m\u001b[38;5;132;43;01m}\u001b[39;49;00m\u001b[38;5;124;43m, \u001b[39;49m\u001b[38;5;132;43;01m{\u001b[39;49;00m\u001b[43marea\u001b[49m\u001b[38;5;132;43;01m}\u001b[39;49;00m\u001b[38;5;124;43m, \u001b[39;49m\u001b[38;5;132;43;01m{\u001b[39;49;00m\u001b[43msale\u001b[49m\u001b[38;5;132;43;01m}\u001b[39;49;00m\u001b[38;5;124;43m ,\u001b[39;49m\u001b[38;5;132;43;01m{\u001b[39;49;00m\u001b[43mfurnus\u001b[49m\u001b[38;5;132;43;01m}\u001b[39;49;00m\u001b[38;5;124;43m, \u001b[39;49m\u001b[38;5;132;43;01m{\u001b[39;49;00m\u001b[43mf1\u001b[49m\u001b[38;5;132;43;01m}\u001b[39;49;00m\u001b[38;5;124;43m, \u001b[39;49m\u001b[38;5;132;43;01m{\u001b[39;49;00m\u001b[43mf2\u001b[49m\u001b[38;5;132;43;01m}\u001b[39;49;00m\u001b[38;5;124;43m)\u001b[39;49m\u001b[38;5;124;43m\"\u001b[39;49m\u001b[43m)\u001b[49m\n",
      "\u001b[1;31mInFailedSqlTransaction\u001b[0m: current transaction is aborted, commands ignored until end of transaction block\n"
     ]
    }
   ],
   "source": [
    "flow(2,231,\"Resale\",\"Unfurnished\",2,4)"
   ]
  },
  {
   "cell_type": "code",
   "execution_count": 92,
   "id": "2f6c529f-eb75-43b1-b911-b77850dec87c",
   "metadata": {},
   "outputs": [
    {
     "name": "stdout",
     "output_type": "stream",
     "text": [
      "Values added to newtable successfully.\n"
     ]
    }
   ],
   "source": [
    "import psycopg2\n",
    "\n",
    "connection = psycopg2.connect(\n",
    "                        database=\"postgres\",\n",
    "                        host=\"localhost\",\n",
    "                        user=\"postgres\",\n",
    "                        password=\"12345\",\n",
    "                        port=\"5432\"\n",
    "        )\n",
    "\n",
    "cursor = connection.cursor()\n",
    "\n",
    "def add_to_newtable(bhk, area, sale, furnus, f1, f2):\n",
    "        if sale==\"Resale\":\n",
    "            sale=int(1)\n",
    "        else:\n",
    "            sale=int(0)\n",
    "\n",
    "        if furnus==\"Furnished\":\n",
    "            furnus=int(2)\n",
    "        elif furnus==\"Semi-Furnished\":\n",
    "            furnus=int(1)\n",
    "        else:\n",
    "            furnus=int(0)\n",
    "        \n",
    "        insert_query = \"\"\"\n",
    "        INSERT INTO newtable (bhk, area, sale, furnus, f1, f2)\n",
    "        VALUES (%s, %s, %s, %s, %s, %s);\n",
    "        \"\"\"\n",
    "        cursor.execute(insert_query, (bhk, area, sale, furnus, f1, f2))\n",
    "        print(\"Values added to newtable successfully.\")\n",
    "       \n",
    "\n",
    "# Example usage:\n",
    "add_to_newtable(3, 890, \"Resale\", \"Furnished\", 0,5)\n"
   ]
  },
  {
   "cell_type": "code",
   "execution_count": 93,
   "id": "dd46cc02-3d35-43a6-8fba-3987c22090a4",
   "metadata": {},
   "outputs": [
    {
     "name": "stdout",
     "output_type": "stream",
     "text": [
      "[(3, 890, 1, 2, 0, 5)]\n"
     ]
    }
   ],
   "source": [
    " select_query = \"SELECT * FROM newtable\"\n",
    "cursor.execute(select_query)\n",
    "records = cursor.fetchall()\n",
    "print(records)"
   ]
  }
 ],
 "metadata": {
  "kernelspec": {
   "display_name": "Python 3 (ipykernel)",
   "language": "python",
   "name": "python3"
  },
  "language_info": {
   "codemirror_mode": {
    "name": "ipython",
    "version": 3
   },
   "file_extension": ".py",
   "mimetype": "text/x-python",
   "name": "python",
   "nbconvert_exporter": "python",
   "pygments_lexer": "ipython3",
   "version": "3.12.3"
  }
 },
 "nbformat": 4,
 "nbformat_minor": 5
}
